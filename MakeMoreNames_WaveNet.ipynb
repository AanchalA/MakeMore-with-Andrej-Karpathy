{
  "nbformat": 4,
  "nbformat_minor": 0,
  "metadata": {
    "colab": {
      "provenance": [],
      "authorship_tag": "ABX9TyMLil5dU7eHQ2NANz0Y/SrJ",
      "include_colab_link": true
    },
    "kernelspec": {
      "name": "python3",
      "display_name": "Python 3"
    },
    "language_info": {
      "name": "python"
    }
  },
  "cells": [
    {
      "cell_type": "markdown",
      "metadata": {
        "id": "view-in-github",
        "colab_type": "text"
      },
      "source": [
        "<a href=\"https://colab.research.google.com/github/AanchalA/MakeMore-with-Andrej-Karpathy/blob/main/MakeMoreNames_WaveNet.ipynb\" target=\"_parent\"><img src=\"https://colab.research.google.com/assets/colab-badge.svg\" alt=\"Open In Colab\"/></a>"
      ]
    },
    {
      "cell_type": "code",
      "execution_count": null,
      "metadata": {
        "id": "pX22LsqHnY6O"
      },
      "outputs": [],
      "source": [
        "import torch\n",
        "import torch.nn.functional as F\n",
        "\n",
        "import random\n",
        "from tqdm import tqdm\n",
        "import matplotlib.pyplot as plt\n",
        "%matplotlib inline"
      ]
    },
    {
      "cell_type": "markdown",
      "source": [
        "# HyperParameters"
      ],
      "metadata": {
        "id": "naIJ5upGnl34"
      }
    },
    {
      "cell_type": "code",
      "source": [
        "# HyperParameters\n",
        "\n",
        "EPOCHS = 200000\n",
        "BLOCK_SIZE = 8              ## Context Length: how many characters do we take to predict the next one?\n",
        "BATCH_SIZE = 32\n",
        "FUSION_SIZE = 2\n",
        "LEARNING_RATE = 0.1\n",
        "EMBEDDINGS_DIM = 24             ## Dimensionality of the Character Embedding Vectors\n",
        "NUM_HIDDEN_UNITS = 128          ## Number of Neurons in the Hidden Layer of the MLP\n",
        "LEARNING_RATE_DECAY = 0.01\n",
        "\n",
        "# g = torch.Generator().manual_seed(2147483647)                   # for reproducibility\n",
        "torch.manual_seed(42);          ## seed rng for reproducibility"
      ],
      "metadata": {
        "id": "IVbJTYNonoVm"
      },
      "execution_count": null,
      "outputs": []
    },
    {
      "cell_type": "markdown",
      "source": [
        "# Building the DataSet"
      ],
      "metadata": {
        "id": "oHO1D2icnqbt"
      }
    },
    {
      "cell_type": "code",
      "source": [
        "! wget https://raw.githubusercontent.com/karpathy/makemore/master/names.txt"
      ],
      "metadata": {
        "id": "zfh06fd8ntHM",
        "colab": {
          "base_uri": "https://localhost:8080/"
        },
        "outputId": "76fbda7d-1f6c-490b-bd9b-8156940a9a08"
      },
      "execution_count": null,
      "outputs": [
        {
          "output_type": "stream",
          "name": "stdout",
          "text": [
            "--2023-06-04 16:10:32--  https://raw.githubusercontent.com/karpathy/makemore/master/names.txt\n",
            "Resolving raw.githubusercontent.com (raw.githubusercontent.com)... 185.199.108.133, 185.199.109.133, 185.199.110.133, ...\n",
            "Connecting to raw.githubusercontent.com (raw.githubusercontent.com)|185.199.108.133|:443... connected.\n",
            "HTTP request sent, awaiting response... 200 OK\n",
            "Length: 228145 (223K) [text/plain]\n",
            "Saving to: ‘names.txt’\n",
            "\n",
            "\rnames.txt             0%[                    ]       0  --.-KB/s               \rnames.txt           100%[===================>] 222.80K  --.-KB/s    in 0.02s   \n",
            "\n",
            "2023-06-04 16:10:32 (11.3 MB/s) - ‘names.txt’ saved [228145/228145]\n",
            "\n"
          ]
        }
      ]
    },
    {
      "cell_type": "code",
      "source": [
        "words = open('names.txt').read().splitlines()\n",
        "len(words)"
      ],
      "metadata": {
        "colab": {
          "base_uri": "https://localhost:8080/"
        },
        "id": "RVgiGvJYnxbz",
        "outputId": "883aaf95-c61b-471b-81da-dd936faa6fe8"
      },
      "execution_count": null,
      "outputs": [
        {
          "output_type": "execute_result",
          "data": {
            "text/plain": [
              "32033"
            ]
          },
          "metadata": {},
          "execution_count": 4
        }
      ]
    },
    {
      "cell_type": "code",
      "source": [
        "chars = sorted(list(set(''.join(words))))\n",
        "stoi = {s:i+1 for i, s in enumerate(chars)}\n",
        "stoi['.'] = 0\n",
        "# stoi['<S>'] = 26\n",
        "# stoi['<E>'] = 27\n",
        "itos = {i:s for s, i in stoi.items()}\n",
        "vocab_size = len(stoi)\n",
        "print(f'{vocab_size}')"
      ],
      "metadata": {
        "colab": {
          "base_uri": "https://localhost:8080/"
        },
        "id": "utIAbx5KnzvA",
        "outputId": "8090632e-75bf-4e2c-98f3-a598936963e3"
      },
      "execution_count": null,
      "outputs": [
        {
          "output_type": "stream",
          "name": "stdout",
          "text": [
            "27\n"
          ]
        }
      ]
    },
    {
      "cell_type": "code",
      "source": [
        "def build_dataset(words):\n",
        "\n",
        "    X, Y = list(), list()\n",
        "\n",
        "    for w in words:\n",
        "\n",
        "        # print(f\"\\nNAME: {w}\")\n",
        "        context = [0] * BLOCK_SIZE      ## [0, 0, 0]\n",
        "        for ch in w + '.':              ## Appending '.' at the end of the name\n",
        "            ix = stoi[ch]\n",
        "            X.append(context)\n",
        "            Y.append(ix)\n",
        "\n",
        "            # print('\\t', ''.join(itos[i] for i in context), '--->', itos[ix])\n",
        "\n",
        "            context = context[1:] + [ix]            ## POP from the top and then append\n",
        "\n",
        "    X = torch.tensor(X)\n",
        "    Y = torch.tensor(Y)\n",
        "\n",
        "    print(X.shape, Y.shape)\n",
        "\n",
        "    return X, Y"
      ],
      "metadata": {
        "id": "4pB3YFWYn14K"
      },
      "execution_count": null,
      "outputs": []
    },
    {
      "cell_type": "code",
      "source": [
        "random.seed(42)\n",
        "random.shuffle(words)\n",
        "\n",
        "n1 = int(0.8 * len(words))\n",
        "n2 = int(0.9 * len(words))\n",
        "\n",
        "Xtr, Ytr = build_dataset(words[:n1])                # 80%\n",
        "Xdev, Ydev = build_dataset(words[n1:n2])            # 10%\n",
        "Xte, Yte = build_dataset(words[n2:])                # 10%"
      ],
      "metadata": {
        "colab": {
          "base_uri": "https://localhost:8080/"
        },
        "id": "gv2SIu5En3xz",
        "outputId": "2fb05bbe-40ff-433d-9cd7-94230e2ff150"
      },
      "execution_count": null,
      "outputs": [
        {
          "output_type": "stream",
          "name": "stdout",
          "text": [
            "torch.Size([182625, 8]) torch.Size([182625])\n",
            "torch.Size([22655, 8]) torch.Size([22655])\n",
            "torch.Size([22866, 8]) torch.Size([22866])\n"
          ]
        }
      ]
    },
    {
      "cell_type": "code",
      "source": [
        "num_examples = 20\n",
        "for x, y in zip(Xtr[:num_examples], Ytr[:num_examples]):\n",
        "    print(''.join(itos[ix.item()] for ix in x), '--->', itos[y.item()])"
      ],
      "metadata": {
        "colab": {
          "base_uri": "https://localhost:8080/"
        },
        "id": "bEikwdfqc1fe",
        "outputId": "d7c0a8d8-81e9-402e-d8cf-94e86a11e382"
      },
      "execution_count": null,
      "outputs": [
        {
          "output_type": "stream",
          "name": "stdout",
          "text": [
            "........ ---> y\n",
            ".......y ---> u\n",
            "......yu ---> h\n",
            ".....yuh ---> e\n",
            "....yuhe ---> n\n",
            "...yuhen ---> g\n",
            "..yuheng ---> .\n",
            "........ ---> d\n",
            ".......d ---> i\n",
            "......di ---> o\n",
            ".....dio ---> n\n",
            "....dion ---> d\n",
            "...diond ---> r\n",
            "..diondr ---> e\n",
            ".diondre ---> .\n",
            "........ ---> x\n",
            ".......x ---> a\n",
            "......xa ---> v\n",
            ".....xav ---> i\n",
            "....xavi ---> e\n"
          ]
        }
      ]
    },
    {
      "cell_type": "markdown",
      "source": [
        "# Model Preparation"
      ],
      "metadata": {
        "id": "JQ13cHmmn6Ry"
      }
    },
    {
      "cell_type": "code",
      "source": [
        "class Linear:\n",
        "\n",
        "    def __init__(self, fan_in, fan_out, bias=True):\n",
        "        self.weight = torch.randn((fan_in, fan_out)) #/ fan_in ** 0.5           ## Default Kaiming Initilization: (sqrt(fan_in)) - Even pytorch uses this as the default init.\n",
        "        self.bias = torch.zeros(fan_out) if bias else None\n",
        "\n",
        "\n",
        "    def __call__(self, x):\n",
        "        self.out = x @ self.weight\n",
        "        if self.bias is not None:\n",
        "            self.out += self.bias\n",
        "        return self.out\n",
        "\n",
        "\n",
        "    def parameters(self):\n",
        "        return [self.weight] + ([] if self.bias is None else [self.bias])"
      ],
      "metadata": {
        "id": "kIKbVis6n5_V"
      },
      "execution_count": null,
      "outputs": []
    },
    {
      "cell_type": "code",
      "source": [
        "class BatchNorm1D:\n",
        "\n",
        "    def __init__(self, dim, eps=1e-5, momentum=0.1):\n",
        "        self.eps = eps\n",
        "        self.momentum = momentum\n",
        "        self.training = True\n",
        "\n",
        "        # Parameters (Trained with Back-Prop)\n",
        "        self.gamma = torch.ones(dim)               ## Batch Normalization Gain (Scaling Parameter)\n",
        "        self.beta = torch.zeros(dim)               ## Batch Normalization Bias (Shifting Parameter)\n",
        "\n",
        "        # Buffers (Trained with a \"Running Momentum Update\" or \"Exponential Moving Average\")\n",
        "        self.running_mean = torch.zeros(dim)\n",
        "        self.running_var = torch.ones(dim)\n",
        "\n",
        "\n",
        "    def __call__(self, x):\n",
        "        # Calculate the Forward Pass\n",
        "        if self.training:\n",
        "\n",
        "            if x.ndim == 2:\n",
        "                dim = 0\n",
        "            elif x.ndim == 3:\n",
        "                dim = (0, 1)\n",
        "\n",
        "            xmean = x.mean(dim, keepdims=True)                ## Batch Mean\n",
        "            xvar = x.var(dim, keepdims=True)                  ## Batch Variance\n",
        "\n",
        "        else:\n",
        "            xmean = self.running_mean\n",
        "            xvar = self.running_var\n",
        "\n",
        "        xhat = (x - xmean) / torch.sqrt(xvar + self.eps)            ## Adding eps to xvar to avoide division by zero situation\n",
        "        self.out = self.gamma * xhat + self.beta\n",
        "\n",
        "        # Updating the Buffers\n",
        "        if self.training:\n",
        "            with torch.no_grad():\n",
        "                self.running_mean = (1 - self.momentum) * self.running_mean + self.momentum * xmean\n",
        "                self.running_var = (1 - self.momentum) * self.running_var + self.momentum * xvar\n",
        "\n",
        "        return self.out\n",
        "\n",
        "\n",
        "    def parameters(self):\n",
        "        return [self.gamma, self.beta]"
      ],
      "metadata": {
        "id": "cZJCdWXtpI1S"
      },
      "execution_count": null,
      "outputs": []
    },
    {
      "cell_type": "code",
      "source": [
        "class Tanh:\n",
        "\n",
        "    def __call__(self, x):\n",
        "        self.out = torch.tanh(x)\n",
        "        return self.out\n",
        "\n",
        "\n",
        "    def parameters(self):\n",
        "        return []"
      ],
      "metadata": {
        "id": "tavZrnHApLbj"
      },
      "execution_count": null,
      "outputs": []
    },
    {
      "cell_type": "code",
      "source": [
        "class Embedding:                ## Embedding layer embeddings are updated using Self-Attention in transformers\n",
        "\n",
        "    def __init__(self, num_embeddings, embedding_dim):\n",
        "        self.weight = torch.randn((num_embeddings, embedding_dim))\n",
        "\n",
        "\n",
        "    def __call__(self, IX):                     ## IX - List of Batch Indexes\n",
        "        self.out = self.weight[IX]\n",
        "        return self.out\n",
        "\n",
        "\n",
        "    def parameters(self):\n",
        "        return [self.weight]"
      ],
      "metadata": {
        "id": "DL5cUzOexU7Y"
      },
      "execution_count": null,
      "outputs": []
    },
    {
      "cell_type": "code",
      "source": [
        "class Flatten:\n",
        "\n",
        "    def __call__(self, x):\n",
        "        self.out = x.view(x.shape[0], -1)\n",
        "        return self.out\n",
        "\n",
        "\n",
        "    def parameters(self):\n",
        "        return []"
      ],
      "metadata": {
        "id": "2i2WXbSux9V2"
      },
      "execution_count": null,
      "outputs": []
    },
    {
      "cell_type": "code",
      "source": [
        "class FlattenConsecutive:\n",
        "\n",
        "    def __init__(self, n):\n",
        "        self.n = n                                      ## n - Fusion Size\n",
        "\n",
        "\n",
        "    def __call__(self, x):\n",
        "        B, T, C = x.shape                               ## B - Batch Size, T - Context Size, C - Embedding Dimension\n",
        "        x = x.view(B, T // self.n, C * self.n)          ## T // self.n - Integer Division. This creates a batch dimension for the characters\n",
        "\n",
        "        if x.shape[1] == 1:                             ## When T is odd, there will be one character left at the end without amy pair match\n",
        "            x = x.squeeze(dim=1)                            ## torch.squeeze() - Squeezes \"out\" all the dimensions in a tensor that are 1. Here we are squeezing out dim=1 only, ie the single character dimension. So if T=1 x.squeeze will return (B, T, C) ===> as (B, C)\n",
        "        self.out = x\n",
        "        return x\n",
        "\n",
        "\n",
        "    def parameters(self):\n",
        "        return []"
      ],
      "metadata": {
        "id": "JsF4MjrFhNeG"
      },
      "execution_count": null,
      "outputs": []
    },
    {
      "cell_type": "code",
      "source": [
        "class Sequential:\n",
        "\n",
        "    def __init__(self, layers):\n",
        "        self.layers = layers\n",
        "\n",
        "\n",
        "    def __call__(self, x):                  ## X - Input/Batch Input\n",
        "        for layer in self.layers:\n",
        "            x = layer(x)\n",
        "        self.out = x\n",
        "        return self.out\n",
        "\n",
        "\n",
        "    def parameters(self):\n",
        "        # get parameters of all layers and stretch them out into one list\n",
        "        return [p for layer in self.layers for p in layer.parameters()]"
      ],
      "metadata": {
        "id": "aJ-GDBFrynVV"
      },
      "execution_count": null,
      "outputs": []
    },
    {
      "cell_type": "markdown",
      "source": [
        "# Model Architecture\n"
      ],
      "metadata": {
        "id": "Rjd0PLcDr_U6"
      }
    },
    {
      "cell_type": "code",
      "source": [
        "# flat concatenation for Character Embeddings\n",
        "\n",
        "# model = Sequential([\n",
        "#     Embedding(vocab_size, EMBEDDINGS_DIM),\n",
        "\n",
        "#     Flatten(),\n",
        "#     Linear(fan_in=EMBEDDINGS_DIM * BLOCK_SIZE,\n",
        "#            fan_out=NUM_HIDDEN_UNITS,\n",
        "#            bias=False),\n",
        "#     BatchNorm1D(dim=NUM_HIDDEN_UNITS),\n",
        "#     Tanh(),\n",
        "\n",
        "#     Linear(fan_in=NUM_HIDDEN_UNITS,\n",
        "#            fan_out=vocab_size)\n",
        "# ])"
      ],
      "metadata": {
        "id": "reKOry0NrlTY"
      },
      "execution_count": null,
      "outputs": []
    },
    {
      "cell_type": "code",
      "source": [
        "# Character Embeddings are concatenated hierarchically (2 embedding vectors as a time) rather than a flat concatenation\n",
        "# 1\n",
        "# 1 1\n",
        "# 1 1 1 1\n",
        "\n",
        "\n",
        "model = Sequential([\n",
        "    Embedding(vocab_size, EMBEDDINGS_DIM),\n",
        "\n",
        "    FlattenConsecutive(FUSION_SIZE),\n",
        "    Linear(fan_in=EMBEDDINGS_DIM * FUSION_SIZE,\n",
        "           fan_out=NUM_HIDDEN_UNITS,\n",
        "           bias=False),\n",
        "    BatchNorm1D(dim=NUM_HIDDEN_UNITS),\n",
        "    Tanh(),\n",
        "\n",
        "    FlattenConsecutive(FUSION_SIZE),\n",
        "    Linear(fan_in=NUM_HIDDEN_UNITS * FUSION_SIZE,\n",
        "           fan_out=NUM_HIDDEN_UNITS,\n",
        "           bias=False),\n",
        "    BatchNorm1D(dim=NUM_HIDDEN_UNITS),\n",
        "    Tanh(),\n",
        "\n",
        "    FlattenConsecutive(FUSION_SIZE),\n",
        "    Linear(fan_in=NUM_HIDDEN_UNITS * FUSION_SIZE,\n",
        "           fan_out=NUM_HIDDEN_UNITS,\n",
        "           bias=False),\n",
        "    BatchNorm1D(dim=NUM_HIDDEN_UNITS),\n",
        "    Tanh(),\n",
        "\n",
        "    Linear(fan_in=NUM_HIDDEN_UNITS,\n",
        "           fan_out=vocab_size)\n",
        "])"
      ],
      "metadata": {
        "id": "p3bOmLRsqwaZ"
      },
      "execution_count": null,
      "outputs": []
    },
    {
      "cell_type": "code",
      "source": [
        "model"
      ],
      "metadata": {
        "colab": {
          "base_uri": "https://localhost:8080/"
        },
        "id": "2AqK2q7kyJoJ",
        "outputId": "d392a714-5376-40ca-c70e-e981adcaf9c9"
      },
      "execution_count": null,
      "outputs": [
        {
          "output_type": "execute_result",
          "data": {
            "text/plain": [
              "<__main__.Sequential at 0x7ffa6b8ae800>"
            ]
          },
          "metadata": {},
          "execution_count": 18
        }
      ]
    },
    {
      "cell_type": "code",
      "source": [
        "## Weight Parameter Initilization for Last Layer\n",
        "with torch.no_grad():\n",
        "    # Last Layer: Make Less Confident (Fix for Softmax Confidently Wrong)\n",
        "    model.layers[-1].weight *= 0.1\n",
        "\n",
        "parameters = model.parameters()\n",
        "\n",
        "for p in parameters:\n",
        "    p.requires_grad = True\n",
        "\n",
        "print(f\"Total Number of Parameters: {sum(p.nelement() for p in parameters)}\")"
      ],
      "metadata": {
        "colab": {
          "base_uri": "https://localhost:8080/"
        },
        "id": "j-CoNR6Kr9BZ",
        "outputId": "907d863b-f3db-4e93-dd58-310969531661"
      },
      "execution_count": null,
      "outputs": [
        {
          "output_type": "stream",
          "name": "stdout",
          "text": [
            "Total Number of Parameters: 76579\n"
          ]
        }
      ]
    },
    {
      "cell_type": "markdown",
      "source": [
        "# Play-Ground"
      ],
      "metadata": {
        "id": "Aj1n1OAIes7S"
      }
    },
    {
      "cell_type": "code",
      "source": [
        "# ix = torch.randint(0, Xtr.shape[0], (4, ))        ## Taking a batch of 4 examples\n",
        "# Xb, Yb = Xtr[ix], Ytr[ix]\n",
        "# logits = model(Xb)\n",
        "\n",
        "# print(Xb.shape)\n",
        "# Xb"
      ],
      "metadata": {
        "id": "owvJ8lutetxY"
      },
      "execution_count": null,
      "outputs": []
    },
    {
      "cell_type": "code",
      "source": [
        "# for layer in model.layers:\n",
        "#     print(layer.__class__.__name__, \":\\t\\t\", tuple(layer.out.shape))"
      ],
      "metadata": {
        "id": "KRNRgZVCq15F"
      },
      "execution_count": null,
      "outputs": []
    },
    {
      "cell_type": "code",
      "source": [
        "# Embedding Layer Input: (4, 8)\n",
        "model.layers[0].out.shape               ## Output of the Embedding Layer (0th layer)"
      ],
      "metadata": {
        "colab": {
          "base_uri": "https://localhost:8080/"
        },
        "id": "fj0NXDvle-I1",
        "outputId": "2e724857-1c42-4385-f9ee-19014341bc55"
      },
      "execution_count": null,
      "outputs": [
        {
          "output_type": "execute_result",
          "data": {
            "text/plain": [
              "torch.Size([1, 8, 24])"
            ]
          },
          "metadata": {},
          "execution_count": 36
        }
      ]
    },
    {
      "cell_type": "code",
      "source": [
        "model.layers[1].out.shape               ## Output of the Flatten Layer (1st layer)"
      ],
      "metadata": {
        "id": "huZ3vm-tfMYB"
      },
      "execution_count": null,
      "outputs": []
    },
    {
      "cell_type": "code",
      "source": [
        "# # Inside the Linear Layer - Matrix multiplication only works on the last layer, all the other layers remain unchanged.\n",
        "# h = torch.randn(4, 80) @ torch.randn(80, 200) + torch.randn(200)            ## h = X @ W + b\n",
        "\n",
        "# # Which is why the shape of input matrix X does not matter.\n",
        "# # All the dimensions in the middle are treated as batch dimensions.\n",
        "# h = torch.randn(4, 4, 20) @ torch.randn(20, 200) + torch.randn(200)            ## h = X @ W + b, Adding a batch dimension for the characters (dividing the characters into the given batch size)\n",
        "# # Example\n",
        "# # [1, 2, 3, 4, 5, 6, 7, 8]  ---> [(1, 2), (3, 4), (5, 6), (7, 8)]\n",
        "\n",
        "# print(h.shape)\n",
        "# model.layers[2].out.shape               ## Output of the Linear Layer (2nd Layer)"
      ],
      "metadata": {
        "id": "L4296uT6fX-P"
      },
      "execution_count": null,
      "outputs": []
    },
    {
      "cell_type": "code",
      "source": [
        "# e = torch.randn(4, 8, 10)       ## GOAL: Want this to be a (4, 4, 20) where consecutive 10-d vectors get concatenated.\n",
        "# e.view(4, -1).shape             ## Current Implementation"
      ],
      "metadata": {
        "id": "mzwFMJ4GlTBP"
      },
      "execution_count": null,
      "outputs": []
    },
    {
      "cell_type": "code",
      "source": [
        "# # Get even indexes from list\n",
        "# list(range(10))[::2]            ## Start with row_index=0 step=2"
      ],
      "metadata": {
        "id": "NfsSALFqmSXV"
      },
      "execution_count": null,
      "outputs": []
    },
    {
      "cell_type": "code",
      "source": [
        "# # Get odd indexes from list\n",
        "# list(range(10))[1::2]           ## Start with row_index=1 step=2"
      ],
      "metadata": {
        "id": "Qwtz9tmYmdy8"
      },
      "execution_count": null,
      "outputs": []
    },
    {
      "cell_type": "code",
      "source": [
        "# # e[:, ::2, :] - Taking dim=0 as it is, taking only even index from dim=1, taking dim=2 as it is from all the indexes selected in dim=1 and concatenating them.\n",
        "# torch.cat([e[:, ::2, :], e[:, 1::2, :]], dim=2).shape"
      ],
      "metadata": {
        "id": "DY7dCbT_nDGY"
      },
      "execution_count": null,
      "outputs": []
    },
    {
      "cell_type": "code",
      "source": [
        "# e.view(4, 4, 20).shape"
      ],
      "metadata": {
        "id": "giYVVfC2n3bB"
      },
      "execution_count": null,
      "outputs": []
    },
    {
      "cell_type": "code",
      "source": [
        "# e = torch.randn(32, 4, 68)                                  ## Input for BatchNorm1D Layer\n",
        "# emean = e.mean(0, keepdim=True)                             ## Resultant dimensions: (1, 4, 68). Taking mean over the 32 inputs in dim=0\n",
        "# print(emean.shape)\n",
        "# evar = e.var(0, keepdim=True)                               ## Resultant dimensions: (1, 4, 68). Taking var over the 32 inputs in dim=0\n",
        "# print(evar.shape)\n",
        "# ehat = (e - emean) / torch.sqrt(evar + 1e-5)                ## Resultant dimensions: (32, 4, 68). Dimensions get reset because of broadcasting.\n",
        "# print(ehat.shape)"
      ],
      "metadata": {
        "id": "qQUwK6Rr1FHM"
      },
      "execution_count": null,
      "outputs": []
    },
    {
      "cell_type": "code",
      "source": [
        "model.layers[3].running_mean.shape"
      ],
      "metadata": {
        "colab": {
          "base_uri": "https://localhost:8080/"
        },
        "id": "j48Ipjel2Ngp",
        "outputId": "4235d4f2-ce73-4444-b0d0-95de97f00551"
      },
      "execution_count": null,
      "outputs": [
        {
          "output_type": "execute_result",
          "data": {
            "text/plain": [
              "torch.Size([128])"
            ]
          },
          "metadata": {},
          "execution_count": 28
        }
      ]
    },
    {
      "cell_type": "code",
      "source": [
        "# e = torch.randn(32, 4, 68)                                      ## Input for BatchNorm1D Layer. We want to take the mean, var over (32 * 4) rather than just (32)\n",
        "# emean = e.mean((0, 1), keepdim=True)                            ## Resultant dimensions: (1, 4, 68). Taking mean over the 32 inputs in dim=0\n",
        "# print(emean.shape)\n",
        "# evar = e.var((0, 1), keepdim=True)                              ## Resultant dimensions: (1, 4, 68). Taking var over the 32 inputs in dim=0\n",
        "# print(evar.shape)\n",
        "# ehat = (e - emean) / torch.sqrt(evar + 1e-5)                    ## Resultant dimensions: (32, 4, 68). Dimensions get reset because of broadcasting.\n",
        "# print(ehat.shape)"
      ],
      "metadata": {
        "id": "onFNOYHE88nu"
      },
      "execution_count": null,
      "outputs": []
    },
    {
      "cell_type": "markdown",
      "source": [
        "# Model Training"
      ],
      "metadata": {
        "id": "A8Vv4vLwsEZA"
      }
    },
    {
      "cell_type": "code",
      "source": [
        "loss_i = list()\n",
        "update_to_data_ratio = list()\n",
        "\n",
        "for i in range(EPOCHS):\n",
        "\n",
        "    ## Mini Batch\n",
        "    ix = torch.randint(0, Xtr.shape[0], (BATCH_SIZE, ))\n",
        "    Xb, Yb = Xtr[ix], Ytr[ix]           ## Batch X, Y\n",
        "\n",
        "\n",
        "    ## Forward Pass\n",
        "    logits = model(Xb)\n",
        "    loss = F.cross_entropy(logits, Yb)       ## Loss Function\n",
        "\n",
        "\n",
        "    ## Backward Pass\n",
        "    # for layer in model.layers:\n",
        "    #     layer.out.retain_grad()         ## AFTER_DEBUG: Would comment out retain_grad\n",
        "\n",
        "    for p in parameters:\n",
        "        p.grad = None                   ## Resetting the gradients\n",
        "\n",
        "    loss.backward()\n",
        "\n",
        "\n",
        "    ## Parameter Update\n",
        "    lr = LEARNING_RATE if i < EPOCHS / 2 else LEARNING_RATE_DECAY\n",
        "    for p in parameters:\n",
        "        p.data += -lr * p.grad\n",
        "\n",
        "\n",
        "    ## Track Stats\n",
        "    if i % 10000 == 0:\n",
        "        print(f\"{i:7d}/{EPOCHS:7d}: {loss.item():.4f}\")\n",
        "    loss_i.append(loss.log10().item())\n",
        "\n",
        "    with torch.no_grad():\n",
        "        update_to_data_ratio.append([((lr*p.grad).std() / p.data.std()).log10().item() for p in parameters])\n",
        "\n",
        "\n",
        "    # break"
      ],
      "metadata": {
        "id": "yYoKQ4dRsGDU",
        "colab": {
          "base_uri": "https://localhost:8080/"
        },
        "outputId": "2c3550c9-b76f-4988-b37c-7f3395961ee4"
      },
      "execution_count": null,
      "outputs": [
        {
          "output_type": "stream",
          "name": "stdout",
          "text": [
            "      0/ 200000: 3.7328\n",
            "  10000/ 200000: 2.2183\n",
            "  20000/ 200000: 2.3063\n",
            "  30000/ 200000: 2.6285\n",
            "  40000/ 200000: 2.2761\n",
            "  50000/ 200000: 1.8845\n",
            "  60000/ 200000: 2.3088\n",
            "  70000/ 200000: 2.0507\n",
            "  80000/ 200000: 1.9589\n",
            "  90000/ 200000: 2.1656\n",
            " 100000/ 200000: 1.9706\n",
            " 110000/ 200000: 2.2438\n",
            " 120000/ 200000: 1.8237\n",
            " 130000/ 200000: 2.1603\n",
            " 140000/ 200000: 1.7578\n",
            " 150000/ 200000: 1.8815\n",
            " 160000/ 200000: 2.0696\n",
            " 170000/ 200000: 1.9531\n",
            " 180000/ 200000: 1.8138\n",
            " 190000/ 200000: 2.1551\n"
          ]
        }
      ]
    },
    {
      "cell_type": "code",
      "source": [
        "# plt.plot(loss_i)\n",
        "plt.plot(torch.tensor(loss_i).view(-1, 1000).mean(1))"
      ],
      "metadata": {
        "colab": {
          "base_uri": "https://localhost:8080/",
          "height": 452
        },
        "id": "IErefHKhvaNf",
        "outputId": "5d806833-00ea-4ab2-cd2a-3c54f96001a4"
      },
      "execution_count": null,
      "outputs": [
        {
          "output_type": "execute_result",
          "data": {
            "text/plain": [
              "[<matplotlib.lines.Line2D at 0x7ff9a4da9480>]"
            ]
          },
          "metadata": {},
          "execution_count": 31
        },
        {
          "output_type": "display_data",
          "data": {
            "text/plain": [
              "<Figure size 640x480 with 1 Axes>"
            ],
            "image/png": "[encoded data removed]"
          },
          "metadata": {}
        }
      ]
    },
    {
      "cell_type": "markdown",
      "source": [
        "# Evaluate Loss on Train and Test Set"
      ],
      "metadata": {
        "id": "Qz9be4NEoFWj"
      }
    },
    {
      "cell_type": "code",
      "source": [
        "# put layers into eval mode (needed for batchnorm especially)\n",
        "for layer in model.layers:\n",
        "  layer.training = False"
      ],
      "metadata": {
        "id": "Biu4bvkl2FP8"
      },
      "execution_count": null,
      "outputs": []
    },
    {
      "cell_type": "code",
      "source": [
        "@torch.no_grad() # this decorator disables gradient tracking\n",
        "def split_loss(split):\n",
        "\n",
        "  x, y = {\n",
        "    'train': (Xtr, Ytr),\n",
        "    'val': (Xdev, Ydev),\n",
        "    'test': (Xte, Yte),\n",
        "  }[split]\n",
        "\n",
        "  logits = model(x)\n",
        "  loss = F.cross_entropy(logits, y)\n",
        "  print(split, loss.item())"
      ],
      "metadata": {
        "id": "62r5gRONoJOZ"
      },
      "execution_count": null,
      "outputs": []
    },
    {
      "cell_type": "code",
      "source": [
        "split_loss('train')\n",
        "split_loss('val')"
      ],
      "metadata": {
        "colab": {
          "base_uri": "https://localhost:8080/"
        },
        "id": "9yLlfnel2Bf1",
        "outputId": "d18535c3-d63f-4f7f-8f85-60c596a682e1"
      },
      "execution_count": null,
      "outputs": [
        {
          "output_type": "stream",
          "name": "stdout",
          "text": [
            "train 2.0172271728515625\n",
            "val 2.07413911819458\n"
          ]
        }
      ]
    },
    {
      "cell_type": "markdown",
      "source": [
        "# Inference"
      ],
      "metadata": {
        "id": "ewm8BKSroKIi"
      }
    },
    {
      "cell_type": "code",
      "source": [
        "## sample from the model\n",
        "# g = torch.Generator().manual_seed(2147483647 + 10)\n",
        "\n",
        "num_examples = 20\n",
        "for _ in range(num_examples):\n",
        "\n",
        "    out = list()\n",
        "    context = [0] * BLOCK_SIZE # initialize with all ...\n",
        "\n",
        "    while True:\n",
        "        ## forward pass the neural net\n",
        "        logits = model(torch.tensor([context])) # (1,block_size,n_embd)\n",
        "        probs = F.softmax(logits, dim=1)\n",
        "\n",
        "        ## sample from the distribution\n",
        "        ix = torch.multinomial(probs, num_samples=1).item()\n",
        "\n",
        "        ## shift the context window and track the samples\n",
        "        context = context[1:] + [ix]\n",
        "        out.append(ix)\n",
        "\n",
        "        ## if we sample the special '.' token, break\n",
        "        if ix == 0:\n",
        "          break\n",
        "\n",
        "    ## decode and print the generated word\n",
        "    print(''.join(itos[i] for i in out))"
      ],
      "metadata": {
        "colab": {
          "base_uri": "https://localhost:8080/"
        },
        "id": "EYodI4sIoL4s",
        "outputId": "68ebcfa5-6891-463c-9ced-00cfeb5a980e"
      },
      "execution_count": null,
      "outputs": [
        {
          "output_type": "stream",
          "name": "stdout",
          "text": [
            "aiyanah.\n",
            "giusop.\n",
            "jener.\n",
            "shria.\n",
            "raylie.\n",
            "francata.\n",
            "kaylen.\n",
            "mccencne.\n",
            "apsond.\n",
            "laylynn.\n",
            "xavan.\n",
            "jaice.\n",
            "myudar.\n",
            "dacphrin.\n",
            "jakir.\n",
            "isabiah.\n",
            "jaissah.\n",
            "layaie.\n",
            "mancari.\n",
            "yeniel.\n"
          ]
        }
      ]
    },
    {
      "cell_type": "markdown",
      "source": [
        "# Why Use Convolutions - Brief Preview / Hint"
      ],
      "metadata": {
        "id": "64RwvHggXQsQ"
      }
    },
    {
      "cell_type": "code",
      "source": [
        "for x, y in zip(Xtr[7:15], Ytr[7:15]):\n",
        "    print(''.join(itos[ix.item()] for ix in x), '-->', itos[y.item()])"
      ],
      "metadata": {
        "id": "0qCBqES0vWdw"
      },
      "execution_count": null,
      "outputs": []
    },
    {
      "cell_type": "code",
      "source": [
        "# forward a single example\n",
        "\n",
        "logits = model(Xtr[[7]])\n",
        "logits.shape"
      ],
      "metadata": {
        "id": "FEtGyTXkXtt0"
      },
      "execution_count": null,
      "outputs": []
    },
    {
      "cell_type": "code",
      "source": [
        "# forward all of them\n",
        "\n",
        "logits = torch.zeros(8, 27)\n",
        "\n",
        "for i in range(8):\n",
        "  logits[i] = model(Xtr[[7+i]])\n",
        "\n",
        "logits.shape"
      ],
      "metadata": {
        "id": "skGbaFIgXwWk"
      },
      "execution_count": null,
      "outputs": []
    },
    {
      "cell_type": "code",
      "source": [
        "# convolution is a \"for loop\"\n",
        "# allows us to forward Linear layers efficiently over space"
      ],
      "metadata": {
        "id": "mQiPCPO7X3ms"
      },
      "execution_count": null,
      "outputs": []
    }
  ]
}