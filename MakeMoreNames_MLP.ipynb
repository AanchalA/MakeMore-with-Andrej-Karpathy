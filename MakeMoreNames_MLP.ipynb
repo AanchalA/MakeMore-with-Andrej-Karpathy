{
  "nbformat": 4,
  "nbformat_minor": 0,
  "metadata": {
    "colab": {
      "provenance": [],
      "authorship_tag": "ABX9TyPKr8cGe3+rYzkEBnV1OuMB",
      "include_colab_link": true
    },
    "kernelspec": {
      "name": "python3",
      "display_name": "Python 3"
    },
    "language_info": {
      "name": "python"
    }
  },
  "cells": [
    {
      "cell_type": "markdown",
      "metadata": {
        "id": "view-in-github",
        "colab_type": "text"
      },
      "source": [
        "<a href=\"https://colab.research.google.com/github/AanchalA/MakeMore-with-Andrej-Karpathy/blob/main/MakeMoreNames_MLP.ipynb\" target=\"_parent\"><img src=\"https://colab.research.google.com/assets/colab-badge.svg\" alt=\"Open In Colab\"/></a>"
      ]
    },
    {
      "cell_type": "code",
      "execution_count": null,
      "metadata": {
        "id": "VW2KONtajN9a"
      },
      "outputs": [],
      "source": [
        "import torch\n",
        "import torch.nn.functional as F\n",
        "\n",
        "import random\n",
        "from tqdm import tqdm\n",
        "import matplotlib.pyplot as plt\n",
        "%matplotlib inline"
      ]
    },
    {
      "cell_type": "code",
      "source": [
        "! wget https://raw.githubusercontent.com/karpathy/makemore/master/names.txt"
      ],
      "metadata": {
        "colab": {
          "base_uri": "https://localhost:8080/"
        },
        "id": "996BOsoplfxo",
        "outputId": "56e4d9ee-93a9-4fb3-9b03-405ba6d2e312"
      },
      "execution_count": null,
      "outputs": [
        {
          "output_type": "stream",
          "name": "stdout",
          "text": [
            "--2023-04-29 11:13:12--  https://raw.githubusercontent.com/karpathy/makemore/master/names.txt\n",
            "Resolving raw.githubusercontent.com (raw.githubusercontent.com)... 185.199.108.133, 185.199.109.133, 185.199.110.133, ...\n",
            "Connecting to raw.githubusercontent.com (raw.githubusercontent.com)|185.199.108.133|:443... connected.\n",
            "HTTP request sent, awaiting response... 200 OK\n",
            "Length: 228145 (223K) [text/plain]\n",
            "Saving to: ‘names.txt’\n",
            "\n",
            "\rnames.txt             0%[                    ]       0  --.-KB/s               \rnames.txt           100%[===================>] 222.80K  --.-KB/s    in 0.004s  \n",
            "\n",
            "2023-04-29 11:13:12 (55.3 MB/s) - ‘names.txt’ saved [228145/228145]\n",
            "\n"
          ]
        }
      ]
    },
    {
      "cell_type": "code",
      "source": [
        "words = open('names.txt').read().splitlines()\n",
        "len(words)"
      ],
      "metadata": {
        "colab": {
          "base_uri": "https://localhost:8080/"
        },
        "id": "JWyyKtOQljPT",
        "outputId": "15e2c5c3-a8d3-444b-a4b0-bb7379ed26b4"
      },
      "execution_count": null,
      "outputs": [
        {
          "output_type": "execute_result",
          "data": {
            "text/plain": [
              "32033"
            ]
          },
          "metadata": {},
          "execution_count": 3
        }
      ]
    },
    {
      "cell_type": "code",
      "source": [
        "chars = sorted(list(set(''.join(words))))\n",
        "stoi = {s:i+1 for i, s in enumerate(chars)}\n",
        "stoi['.'] = 0\n",
        "# stoi['<S>'] = 26\n",
        "# stoi['<E>'] = 27\n",
        "itos = {i:s for s, i in stoi.items()}\n",
        "vocab_size = len(stoi)"
      ],
      "metadata": {
        "id": "_lWuBoRvlnf0"
      },
      "execution_count": null,
      "outputs": []
    },
    {
      "cell_type": "markdown",
      "source": [
        "# Building the Dataset"
      ],
      "metadata": {
        "id": "7x9cITtvm9IG"
      }
    },
    {
      "cell_type": "code",
      "source": [
        "# HyperParameters\n",
        "\n",
        "EPOCHS = 1000\n",
        "BLOCK_SIZE = 3              ## Context Length: how many characters do we take to predict the next one?\n",
        "BATCH_SIZE = 32\n",
        "EMBEDDINGS_DIM = 2\n",
        "LEARNING_RATE = 0.1\n",
        "NUM_HIDDEN_UNITS = 100"
      ],
      "metadata": {
        "id": "AzogheqC2JHh"
      },
      "execution_count": null,
      "outputs": []
    },
    {
      "cell_type": "code",
      "source": [
        "X, Y = list(), list()\n",
        "\n",
        "for w in words:\n",
        "\n",
        "    # print(f\"\\nNAME: {w}\")\n",
        "    context = [0] * BLOCK_SIZE      ## [0, 0, 0]\n",
        "    for ch in w + '.':              ## Appending '.' at the end of the name\n",
        "        ix = stoi[ch]\n",
        "        X.append(context)\n",
        "        Y.append(ix)\n",
        "\n",
        "        # print('\\t', ''.join(itos[i] for i in context), '--->', itos[ix])\n",
        "\n",
        "        context = context[1:] + [ix]            ## POP from the top and then append\n",
        "\n",
        "X = torch.tensor(X)\n",
        "Y = torch.tensor(Y)"
      ],
      "metadata": {
        "id": "UVofGzE_l2Sf"
      },
      "execution_count": null,
      "outputs": []
    },
    {
      "cell_type": "code",
      "source": [
        "X.shape, X.dtype, Y.shape, Y.dtype          ## 32 Examples from 5 names"
      ],
      "metadata": {
        "colab": {
          "base_uri": "https://localhost:8080/"
        },
        "id": "B1zuX37Jo0SE",
        "outputId": "ab16656f-55b5-4cc9-fa00-84b1336a8217"
      },
      "execution_count": null,
      "outputs": [
        {
          "output_type": "execute_result",
          "data": {
            "text/plain": [
              "(torch.Size([228146, 3]), torch.int64, torch.Size([228146]), torch.int64)"
            ]
          },
          "metadata": {},
          "execution_count": 31
        }
      ]
    },
    {
      "cell_type": "code",
      "source": [
        "mini_batch = torch.randint(0, X.shape[0], (BATCH_SIZE,))             ## Creating mini batch of random indexes b/w 0 and num_samples\n",
        "mini_batch"
      ],
      "metadata": {
        "colab": {
          "base_uri": "https://localhost:8080/"
        },
        "id": "_kJmu9aWx4n7",
        "outputId": "2e0d1922-f77c-46ed-8190-46f57b76fff5"
      },
      "execution_count": null,
      "outputs": [
        {
          "output_type": "execute_result",
          "data": {
            "text/plain": [
              "tensor([106966, 106379, 197295,   3049, 186033, 216007, 134553, 164312, 174376,\n",
              "         77964, 162529, 129389,   3850, 137178, 221574, 171970,  48813, 164477,\n",
              "        209629,  89509, 133392, 134533, 125263, 109590,   5667,  68622, 222339,\n",
              "         32550,   4488,  35069, 185089,   8864])"
            ]
          },
          "metadata": {},
          "execution_count": 38
        }
      ]
    },
    {
      "cell_type": "markdown",
      "source": [
        "# Parameter Initilization"
      ],
      "metadata": {
        "id": "iyqsbbu75EJE"
      }
    },
    {
      "cell_type": "code",
      "source": [
        "g = torch.Generator().manual_seed(2147483647)"
      ],
      "metadata": {
        "id": "zFUud94L5dko"
      },
      "execution_count": null,
      "outputs": []
    },
    {
      "cell_type": "markdown",
      "source": [
        "## Character Embeddings"
      ],
      "metadata": {
        "id": "hsRZmAVtrG60"
      }
    },
    {
      "cell_type": "code",
      "source": [
        "C = torch.randn((vocab_size, EMBEDDINGS_DIM), generator=g)     ## C: Embedding Layer - 2 dim embedding vec for each of 27 characters\n",
        "C.shape"
      ],
      "metadata": {
        "colab": {
          "base_uri": "https://localhost:8080/"
        },
        "id": "z6Pc_cYbJo1O",
        "outputId": "445b561a-b177-4d5c-96bb-3ada1081d7ad"
      },
      "execution_count": null,
      "outputs": [
        {
          "output_type": "execute_result",
          "data": {
            "text/plain": [
              "torch.Size([27, 10])"
            ]
          },
          "metadata": {},
          "execution_count": 9
        }
      ]
    },
    {
      "cell_type": "code",
      "source": [
        "# visualize dimensions 0 and 1 of the embedding matrix C for all characters\n",
        "plt.figure(figsize=(8,8))\n",
        "plt.scatter(C[:,0].data, C[:,1].data, s=200)\n",
        "for i in range(C.shape[0]):\n",
        "    plt.text(C[i,0].item(), C[i,1].item(), itos[i], ha=\"center\", va=\"center\", color='white')\n",
        "plt.grid('minor')"
      ],
      "metadata": {
        "colab": {
          "base_uri": "https://localhost:8080/",
          "height": 676
        },
        "id": "mG0Rj7g3DAHF",
        "outputId": "0d7c84eb-27ae-4f7f-aa22-e3280219375b"
      },
      "execution_count": null,
      "outputs": [
        {
          "output_type": "display_data",
          "data": {
            "text/plain": [
              "<Figure size 800x800 with 1 Axes>"
            ],
            "image/png": "[encoded data removed]"
          },
          "metadata": {}
        }
      ]
    },
    {
      "cell_type": "code",
      "source": [
        "emb = C[X]                                                    ## Getting the embedding encoding for all datapoints in X [0, 0, 0] --> [[0.2, 0.3], [0.2, 0.3], [0.2, 0.3]]\n",
        "emb.shape"
      ],
      "metadata": {
        "colab": {
          "base_uri": "https://localhost:8080/"
        },
        "id": "nSqGSt5xrKu3",
        "outputId": "75c099ab-8e55-4998-ec29-3fddd32e726d"
      },
      "execution_count": null,
      "outputs": [
        {
          "output_type": "execute_result",
          "data": {
            "text/plain": [
              "torch.Size([32, 3, 10])"
            ]
          },
          "metadata": {},
          "execution_count": 10
        }
      ]
    },
    {
      "cell_type": "code",
      "source": [
        "emb = emb.view(-1, (BLOCK_SIZE * EMBEDDINGS_DIM))               ## Reshape emb=[n_examples, 3, 2] to emb=[n_examples, 3*2]\n",
        "emb.shape"
      ],
      "metadata": {
        "colab": {
          "base_uri": "https://localhost:8080/"
        },
        "id": "clQrjc-i2Fzu",
        "outputId": "00692efc-479b-45b9-c274-ca0fb847265d"
      },
      "execution_count": null,
      "outputs": [
        {
          "output_type": "execute_result",
          "data": {
            "text/plain": [
              "torch.Size([32, 30])"
            ]
          },
          "metadata": {},
          "execution_count": 11
        }
      ]
    },
    {
      "cell_type": "markdown",
      "source": [
        "## Other Parameters"
      ],
      "metadata": {
        "id": "fDSc2gLL3ofh"
      }
    },
    {
      "cell_type": "code",
      "source": [
        "W1 = torch.randn((BLOCK_SIZE * EMBEDDINGS_DIM, NUM_HIDDEN_UNITS), generator=g)\n",
        "b1 = torch.randn(NUM_HIDDEN_UNITS, generator=g)\n",
        "W1.shape, b1.shape"
      ],
      "metadata": {
        "colab": {
          "base_uri": "https://localhost:8080/"
        },
        "id": "pECXA3PF3KG-",
        "outputId": "d713395f-ffac-4ff7-c20c-b005fd84bba7"
      },
      "execution_count": null,
      "outputs": [
        {
          "output_type": "execute_result",
          "data": {
            "text/plain": [
              "(torch.Size([30, 200]), torch.Size([200]))"
            ]
          },
          "metadata": {},
          "execution_count": 12
        }
      ]
    },
    {
      "cell_type": "code",
      "source": [
        "W2 = torch.randn((NUM_HIDDEN_UNITS, vocab_size), generator=g)\n",
        "b2 = torch.randn(vocab_size, generator=g)\n",
        "W2.shape, b2.shape"
      ],
      "metadata": {
        "colab": {
          "base_uri": "https://localhost:8080/"
        },
        "id": "8pGyixrP4DfA",
        "outputId": "2aaac786-1c29-4cce-b6c4-861b8ba6ae72"
      },
      "execution_count": null,
      "outputs": [
        {
          "output_type": "execute_result",
          "data": {
            "text/plain": [
              "(torch.Size([200, 27]), torch.Size([27]))"
            ]
          },
          "metadata": {},
          "execution_count": 13
        }
      ]
    },
    {
      "cell_type": "code",
      "source": [
        "parameters = [C, W1, b1, W2, b2]"
      ],
      "metadata": {
        "id": "M_JIEoK65Nxt"
      },
      "execution_count": null,
      "outputs": []
    },
    {
      "cell_type": "code",
      "source": [
        "sum(p.nelement() for p in parameters)          ## Total number of parameters"
      ],
      "metadata": {
        "colab": {
          "base_uri": "https://localhost:8080/"
        },
        "id": "aKUdHdIp5x8L",
        "outputId": "ad158378-a802-4c63-91fe-023e46727ff5"
      },
      "execution_count": null,
      "outputs": [
        {
          "output_type": "execute_result",
          "data": {
            "text/plain": [
              "11897"
            ]
          },
          "metadata": {},
          "execution_count": 15
        }
      ]
    },
    {
      "cell_type": "code",
      "source": [
        "for p in parameters:\n",
        "    p.requires_grad = True              ## setting  requires_grad = True for leaf nodes"
      ],
      "metadata": {
        "id": "V1InyDVu6FyE"
      },
      "execution_count": null,
      "outputs": []
    },
    {
      "cell_type": "markdown",
      "source": [
        "# Forward Pass"
      ],
      "metadata": {
        "id": "A-iWlgWy4V1a"
      }
    },
    {
      "cell_type": "code",
      "source": [
        "h = torch.tanh(emb @ W1 + b1)\n",
        "logits = h @ W2 + b2                    ## logits -- Interpreted as \"log-Counts/log-frequency\" of each block\n",
        "\n",
        "# ### All of this is basically --> CROSS ENTROPY == Average Negtive Log Likelihood\n",
        "# count = logits.exp()\n",
        "# prob = count / count.sum(1, keepdims=True)\n",
        "# loss = -prob[torch.arange(X.shape[0]), Y].log().mean()          # mean of log likelihood (sum of log of the current probabilities of the actual Label)\n",
        "# loss"
      ],
      "metadata": {
        "id": "AEboCKRV4YN8"
      },
      "execution_count": null,
      "outputs": []
    },
    {
      "cell_type": "code",
      "source": [
        "loss = F.cross_entropy(logits, Y)\n",
        "loss"
      ],
      "metadata": {
        "colab": {
          "base_uri": "https://localhost:8080/"
        },
        "id": "AuMocjg8KyQF",
        "outputId": "a7357943-6029-4a73-ee62-86076d260aa5"
      },
      "execution_count": null,
      "outputs": [
        {
          "output_type": "execute_result",
          "data": {
            "text/plain": [
              "tensor(29.6480, grad_fn=<NllLossBackward0>)"
            ]
          },
          "metadata": {},
          "execution_count": 18
        }
      ]
    },
    {
      "cell_type": "markdown",
      "source": [
        "# Backward Pass"
      ],
      "metadata": {
        "id": "9Rtnxuo9LnHp"
      }
    },
    {
      "cell_type": "code",
      "source": [
        "for p in parameters:\n",
        "    p.grad = None\n",
        "\n",
        "loss.backward()"
      ],
      "metadata": {
        "id": "GSyHKXiDLpK2"
      },
      "execution_count": null,
      "outputs": []
    },
    {
      "cell_type": "markdown",
      "source": [
        "# Learning Rate Scheduler"
      ],
      "metadata": {
        "id": "ywhrferI07vB"
      }
    },
    {
      "cell_type": "code",
      "source": [
        "lrs = torch.linspace(0.001, 1, steps=1000)                    ## We do not want to step b/w the distribution linearly. We want to step exponantly"
      ],
      "metadata": {
        "id": "oYh2lu3d1EAp"
      },
      "execution_count": null,
      "outputs": []
    },
    {
      "cell_type": "code",
      "source": [
        "10 ** -3, 10 ** 0"
      ],
      "metadata": {
        "colab": {
          "base_uri": "https://localhost:8080/"
        },
        "id": "fcMIXfoj3XJr",
        "outputId": "b60e22f4-60d3-421e-a02b-cda20c1918a0"
      },
      "execution_count": null,
      "outputs": [
        {
          "output_type": "execute_result",
          "data": {
            "text/plain": [
              "(0.001, 1)"
            ]
          },
          "metadata": {},
          "execution_count": 69
        }
      ]
    },
    {
      "cell_type": "code",
      "source": [
        "lre = torch.linspace(-3, 0, steps=1000)                     ## Since we are taking the exponents we take -3, 0 instead of 0.01, 1 as 10^-3 = 0.001 and 10^0 = 1\n",
        "lrs = 10 ** lre                                             ## Now we are spaced exponentially in this interval\n",
        "# lrs"
      ],
      "metadata": {
        "id": "POTu8cwI2el4"
      },
      "execution_count": null,
      "outputs": []
    },
    {
      "cell_type": "markdown",
      "source": [
        "# Parameter Update"
      ],
      "metadata": {
        "id": "6-g3S4FUL18_"
      }
    },
    {
      "cell_type": "code",
      "source": [
        "# for p in parameters:\n",
        "#     p.data += -LEARNING_RATE * p.grad                   ## ERROR: Grad for C is not being calculated in loss.backward()"
      ],
      "metadata": {
        "id": "2rZvuV0uL4Bw"
      },
      "execution_count": null,
      "outputs": []
    },
    {
      "cell_type": "markdown",
      "source": [
        "# Putting Everything Together"
      ],
      "metadata": {
        "id": "YD7YAg2Hrhev"
      }
    },
    {
      "cell_type": "code",
      "source": [
        "# HyperParameters\n",
        "\n",
        "EPOCHS = 200000\n",
        "BLOCK_SIZE = 3              ## Context Length: how many characters do we take to predict the next one?\n",
        "BATCH_SIZE = 64\n",
        "EMBEDDINGS_DIM = 10\n",
        "LEARNING_RATE = 0.1\n",
        "NUM_HIDDEN_UNITS = 200\n",
        "LEARNING_RATE_DECAY = 0.01"
      ],
      "metadata": {
        "id": "oXEdS_iUBTnz"
      },
      "execution_count": null,
      "outputs": []
    },
    {
      "cell_type": "code",
      "source": [
        "def build_dataset(words):\n",
        "\n",
        "    X, Y = list(), list()\n",
        "\n",
        "    for w in words:\n",
        "\n",
        "        # print(f\"\\nNAME: {w}\")\n",
        "        context = [0] * BLOCK_SIZE      ## [0, 0, 0]\n",
        "        for ch in w + '.':              ## Appending '.' at the end of the name\n",
        "            ix = stoi[ch]\n",
        "            X.append(context)\n",
        "            Y.append(ix)\n",
        "\n",
        "            # print('\\t', ''.join(itos[i] for i in context), '--->', itos[ix])\n",
        "\n",
        "            context = context[1:] + [ix]            ## POP from the top and then append\n",
        "\n",
        "    X = torch.tensor(X)\n",
        "    Y = torch.tensor(Y)\n",
        "\n",
        "    print(X.shape, Y.shape)\n",
        "\n",
        "    return X, Y"
      ],
      "metadata": {
        "id": "fAOefMmh9rdu"
      },
      "execution_count": null,
      "outputs": []
    },
    {
      "cell_type": "code",
      "source": [
        "random.seed(42)\n",
        "random.shuffle(words)\n",
        "\n",
        "n1 = int(0.8 * len(words))\n",
        "n2 = int(0.9 * len(words))\n",
        "\n",
        "Xtr, Ytr = build_dataset(words[:n1])                # 80%\n",
        "Xdev, Ydev = build_dataset(words[n1:n2])            # 10%\n",
        "Xte, Yte = build_dataset(words[n2:])                # 10%"
      ],
      "metadata": {
        "colab": {
          "base_uri": "https://localhost:8080/"
        },
        "id": "WusmrBka9oSA",
        "outputId": "16b78c96-d217-4d5f-ed49-4a941ed26b94"
      },
      "execution_count": null,
      "outputs": [
        {
          "output_type": "stream",
          "name": "stdout",
          "text": [
            "torch.Size([182424, 3]) torch.Size([182424])\n",
            "torch.Size([22836, 3]) torch.Size([22836])\n",
            "torch.Size([22886, 3]) torch.Size([22886])\n"
          ]
        }
      ]
    },
    {
      "cell_type": "code",
      "source": [
        "g = torch.Generator().manual_seed(2147483647)                   # for reproducibility\n",
        "\n",
        "C = torch.randn((vocab_size, EMBEDDINGS_DIM), generator=g)\n",
        "W1 = torch.randn((BLOCK_SIZE * EMBEDDINGS_DIM, NUM_HIDDEN_UNITS), generator=g)\n",
        "b1 = torch.randn(NUM_HIDDEN_UNITS, generator=g)\n",
        "W2 = torch.randn((NUM_HIDDEN_UNITS, vocab_size), generator=g)\n",
        "b2 = torch.randn(vocab_size, generator=g)\n",
        "\n",
        "parameters = [C, W1, b1, W2, b2]\n",
        "\n",
        "for p in parameters:\n",
        "  p.requires_grad = True"
      ],
      "metadata": {
        "id": "VwcDTubWrlvX"
      },
      "execution_count": null,
      "outputs": []
    },
    {
      "cell_type": "code",
      "source": [
        "lr_i = list()\n",
        "loss_i = list()\n",
        "step_i = list()"
      ],
      "metadata": {
        "id": "ni5zRtyzEbxk"
      },
      "execution_count": null,
      "outputs": []
    },
    {
      "cell_type": "code",
      "source": [
        "for i in tqdm(range(EPOCHS)):\n",
        "\n",
        "    ## Mini-Batch\n",
        "    ix = torch.randint(0, Xtr.shape[0], (BATCH_SIZE,))\n",
        "\n",
        "\n",
        "    ## Forward Pass\n",
        "    emb = C[Xtr[ix]]          ## Indexing X for only the selected indexes in the mini-batch\n",
        "    emb = emb.view(-1, BLOCK_SIZE * EMBEDDINGS_DIM)\n",
        "    h = torch.tanh(emb @ W1 + b1)\n",
        "    logits = h @ W2 + b2\n",
        "    loss = F.cross_entropy(logits, Ytr[ix])\n",
        "\n",
        "\n",
        "    ## Backward Pass\n",
        "    for p in parameters:\n",
        "        p.grad = None\n",
        "\n",
        "    loss.backward()\n",
        "\n",
        "\n",
        "    ## Parameter Update\n",
        "    # lr = lrs[i]          ## Learning rate scheduler\n",
        "    lr = LEARNING_RATE if i < (EPOCHS / 2) else LEARNING_RATE_DECAY\n",
        "\n",
        "    for p in parameters:\n",
        "        p.data += -lr * p.grad\n",
        "\n",
        "\n",
        "    ## Track Stats\n",
        "    ## lr_i.append(lr)\n",
        "    # lr_i.append(lre[i])         ## Taking the exponent instead of the learning rate\n",
        "    step_i.append(i)\n",
        "    loss_i.append(loss.log10().item())\n",
        "\n",
        "print(f\"\\n\\n LOSS: {loss.item()}\")"
      ],
      "metadata": {
        "colab": {
          "base_uri": "https://localhost:8080/"
        },
        "id": "jKNbe-s4sxqA",
        "outputId": "b8f7bb2c-6158-4eb6-91c8-710c4bd807d4"
      },
      "execution_count": null,
      "outputs": [
        {
          "output_type": "stream",
          "name": "stderr",
          "text": [
            "100%|██████████| 200000/200000 [01:50<00:00, 1803.63it/s]"
          ]
        },
        {
          "output_type": "stream",
          "name": "stdout",
          "text": [
            "\n",
            "\n",
            " LOSS: 2.08046555519104\n"
          ]
        },
        {
          "output_type": "stream",
          "name": "stderr",
          "text": [
            "\n"
          ]
        }
      ]
    },
    {
      "cell_type": "code",
      "source": [
        "# Model Evaluation using Train set\n",
        "\n",
        "emb = C[Xtr]\n",
        "emb = emb.view(-1, BLOCK_SIZE * EMBEDDINGS_DIM)\n",
        "h = torch.tanh(emb @ W1 + b1)\n",
        "logits = h @ W2 + b2\n",
        "loss = F.cross_entropy(logits, Ytr)\n",
        "\n",
        "print(f\"LOSS: {loss.item()}\")"
      ],
      "metadata": {
        "colab": {
          "base_uri": "https://localhost:8080/"
        },
        "id": "5ODwUkbwCnDl",
        "outputId": "cf9c50d1-fcc1-4c38-f755-2465a84a265f"
      },
      "execution_count": null,
      "outputs": [
        {
          "output_type": "stream",
          "name": "stdout",
          "text": [
            "LOSS: 2.1184492111206055\n"
          ]
        }
      ]
    },
    {
      "cell_type": "code",
      "source": [
        "# Model Evaluation using Dev set\n",
        "\n",
        "emb = C[Xdev]\n",
        "emb = emb.view(-1, BLOCK_SIZE * EMBEDDINGS_DIM)\n",
        "h = torch.tanh(emb @ W1 + b1)\n",
        "logits = h @ W2 + b2\n",
        "loss = F.cross_entropy(logits, Ydev)\n",
        "\n",
        "print(f\"LOSS: {loss.item()}\")"
      ],
      "metadata": {
        "colab": {
          "base_uri": "https://localhost:8080/"
        },
        "id": "oE-a-7hp_JO5",
        "outputId": "6c202680-5ae8-4857-f24e-9d7758736b4d"
      },
      "execution_count": null,
      "outputs": [
        {
          "output_type": "stream",
          "name": "stdout",
          "text": [
            "LOSS: 2.160029411315918\n"
          ]
        }
      ]
    },
    {
      "cell_type": "code",
      "source": [
        "plt.plot(step_i, loss_i)"
      ],
      "metadata": {
        "colab": {
          "base_uri": "https://localhost:8080/",
          "height": 448
        },
        "id": "_pZ2O0XMAZbE",
        "outputId": "e6c14baf-aa66-455f-99b2-89dc65f9a6b7"
      },
      "execution_count": null,
      "outputs": [
        {
          "output_type": "execute_result",
          "data": {
            "text/plain": [
              "[<matplotlib.lines.Line2D at 0x7fb6437aba30>]"
            ]
          },
          "metadata": {},
          "execution_count": 155
        },
        {
          "output_type": "display_data",
          "data": {
            "text/plain": [
              "<Figure size 640x480 with 1 Axes>"
            ],
            "image/png": "[encoded data removed]"
          },
          "metadata": {}
        }
      ]
    },
    {
      "cell_type": "code",
      "source": [
        "plt.plot(lr_i, loss_i)"
      ],
      "metadata": {
        "colab": {
          "base_uri": "https://localhost:8080/",
          "height": 448
        },
        "id": "v-3laX6P5LlH",
        "outputId": "121ebba9-52a1-49be-f51e-62f56396fb0a"
      },
      "execution_count": null,
      "outputs": [
        {
          "output_type": "execute_result",
          "data": {
            "text/plain": [
              "[<matplotlib.lines.Line2D at 0x7fb6425f08b0>]"
            ]
          },
          "metadata": {},
          "execution_count": 91
        },
        {
          "output_type": "display_data",
          "data": {
            "text/plain": [
              "<Figure size 640x480 with 1 Axes>"
            ],
            "image/png": "[encoded data removed]"
          },
          "metadata": {}
        }
      ]
    },
    {
      "cell_type": "code",
      "source": [
        "ex = lr_i[loss_i.index(min(loss_i))].item()                 ## Learning Rate Exponent with lowest loss\n",
        "lr = 10 ** ex                                                    ## Learning Rate with lowest loss\n",
        "ex, lr"
      ],
      "metadata": {
        "colab": {
          "base_uri": "https://localhost:8080/"
        },
        "id": "cNonEymK5yEd",
        "outputId": "42681e95-18f8-4123-947e-e344c5358206"
      },
      "execution_count": null,
      "outputs": [
        {
          "output_type": "execute_result",
          "data": {
            "text/plain": [
              "(-0.8678678870201111, 0.13556017255477787)"
            ]
          },
          "metadata": {},
          "execution_count": 94
        }
      ]
    },
    {
      "cell_type": "code",
      "source": [
        "logits.max(1), Y[ix]           ## Maximum of logits along the 1st dimension"
      ],
      "metadata": {
        "colab": {
          "base_uri": "https://localhost:8080/"
        },
        "id": "5V1KWiSxwqlI",
        "outputId": "fef81e26-d33b-4836-9a7f-29ffe84c2273"
      },
      "execution_count": null,
      "outputs": [
        {
          "output_type": "execute_result",
          "data": {
            "text/plain": [
              "(torch.return_types.max(\n",
              " values=tensor([10.9891,  6.7840, 10.2051,  7.4666, 17.2297, 15.2522,  9.9125,  9.5293,\n",
              "          7.9958,  3.8270,  7.1025,  8.1759,  7.3969,  9.4433, 17.3797, 12.0095,\n",
              "         11.4276, 10.1363, 10.3566,  8.9914,  9.9192,  6.6837,  9.0267,  8.1582,\n",
              "          7.4264,  9.9125, 12.3367, 15.1481,  7.9596,  7.7097,  9.9125,  5.0110],\n",
              "        grad_fn=<MaxBackward0>),\n",
              " indices=tensor([12, 14, 12, 12, 12, 12, 14, 12, 15, 12, 12, 12, 26, 12, 12, 12,  4, 18,\n",
              "         12, 12, 12,  6, 12, 14, 11, 14, 12, 12, 12, 15, 14, 17])),\n",
              " tensor([25,  1,  9,  0, 13,  9, 12, 26,  3,  0, 14, 12, 19, 18, 19, 24, 25,  0,\n",
              "         13, 15,  0, 14,  8, 14,  1,  1,  1,  5, 18,  1,  1, 12]))"
            ]
          },
          "metadata": {},
          "execution_count": 79
        }
      ]
    },
    {
      "cell_type": "markdown",
      "source": [
        "# Inference"
      ],
      "metadata": {
        "id": "EuOPwwYkGt2H"
      }
    },
    {
      "cell_type": "code",
      "source": [
        "# sample from the model\n",
        "g = torch.Generator().manual_seed(2147483647 + 10)\n",
        "\n",
        "for _ in range(20):\n",
        "\n",
        "    out = []\n",
        "    context = [0] * BLOCK_SIZE                      # initialize with all \"...\"\n",
        "    while True:\n",
        "      emb = C[torch.tensor([context])]              # (1, block_size, d). Embedding the current context from the embedding table C\n",
        "      h = torch.tanh(emb.view(1, -1) @ W1 + b1)\n",
        "      logits = h @ W2 + b2\n",
        "      probs = F.softmax(logits, dim=1)\n",
        "      ix = torch.multinomial(probs, num_samples=1, generator=g).item()\n",
        "      context = context[1:] + [ix]                  # Shifting the context window\n",
        "      out.append(ix)\n",
        "      if ix == 0:\n",
        "        break\n",
        "\n",
        "    print(''.join(itos[i] for i in out))"
      ],
      "metadata": {
        "colab": {
          "base_uri": "https://localhost:8080/"
        },
        "id": "9UncreU9z63P",
        "outputId": "61e400a2-d60d-4432-a6ed-b30fdc6fe950"
      },
      "execution_count": null,
      "outputs": [
        {
          "output_type": "stream",
          "name": "stdout",
          "text": [
            "mora.\n",
            "kayanniee.\n",
            "mad.\n",
            "rylle.\n",
            "emmadiendraeg.\n",
            "adee.\n",
            "daeli.\n",
            "jemi.\n",
            "jenleigh.\n",
            "van.\n",
            "nar.\n",
            "kateloh.\n",
            "kalin.\n",
            "shubergahimie.\n",
            "trick.\n",
            "welle.\n",
            "joseus.\n",
            "kunzey.\n",
            "dariyah.\n",
            "faeh.\n"
          ]
        }
      ]
    }
  ]
}